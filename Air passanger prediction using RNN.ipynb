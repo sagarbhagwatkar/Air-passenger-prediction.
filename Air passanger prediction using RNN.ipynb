{
 "cells": [
  {
   "cell_type": "code",
   "execution_count": 930,
   "metadata": {},
   "outputs": [],
   "source": [
    "import pandas as pd\n",
    "import numpy as np\n",
    "import matplotlib.pyplot as plt\n",
    "import tensorflow as tf\n",
    "\n",
    "from tensorflow.keras import Sequential\n",
    "from tensorflow.keras.layers import Dense,Dropout,LSTM,BatchNormalization\n",
    "\n",
    "from sklearn.preprocessing import MinMaxScaler"
   ]
  },
  {
   "cell_type": "code",
   "execution_count": 931,
   "metadata": {},
   "outputs": [
    {
     "data": {
      "text/html": [
       "<div>\n",
       "<style scoped>\n",
       "    .dataframe tbody tr th:only-of-type {\n",
       "        vertical-align: middle;\n",
       "    }\n",
       "\n",
       "    .dataframe tbody tr th {\n",
       "        vertical-align: top;\n",
       "    }\n",
       "\n",
       "    .dataframe thead th {\n",
       "        text-align: right;\n",
       "    }\n",
       "</style>\n",
       "<table border=\"1\" class=\"dataframe\">\n",
       "  <thead>\n",
       "    <tr style=\"text-align: right;\">\n",
       "      <th></th>\n",
       "      <th>Month</th>\n",
       "      <th>#Passengers</th>\n",
       "    </tr>\n",
       "  </thead>\n",
       "  <tbody>\n",
       "    <tr>\n",
       "      <th>0</th>\n",
       "      <td>1949-01</td>\n",
       "      <td>112</td>\n",
       "    </tr>\n",
       "    <tr>\n",
       "      <th>1</th>\n",
       "      <td>1949-02</td>\n",
       "      <td>118</td>\n",
       "    </tr>\n",
       "    <tr>\n",
       "      <th>2</th>\n",
       "      <td>1949-03</td>\n",
       "      <td>132</td>\n",
       "    </tr>\n",
       "    <tr>\n",
       "      <th>3</th>\n",
       "      <td>1949-04</td>\n",
       "      <td>129</td>\n",
       "    </tr>\n",
       "    <tr>\n",
       "      <th>4</th>\n",
       "      <td>1949-05</td>\n",
       "      <td>121</td>\n",
       "    </tr>\n",
       "  </tbody>\n",
       "</table>\n",
       "</div>"
      ],
      "text/plain": [
       "     Month  #Passengers\n",
       "0  1949-01          112\n",
       "1  1949-02          118\n",
       "2  1949-03          132\n",
       "3  1949-04          129\n",
       "4  1949-05          121"
      ]
     },
     "execution_count": 931,
     "metadata": {},
     "output_type": "execute_result"
    }
   ],
   "source": [
    "data = pd.read_csv('AirPassengers.csv')\n",
    "data.head()"
   ]
  },
  {
   "cell_type": "markdown",
   "metadata": {},
   "source": [
    "##### As we don't need month column we can drop it"
   ]
  },
  {
   "cell_type": "code",
   "execution_count": 932,
   "metadata": {},
   "outputs": [
    {
     "data": {
      "text/html": [
       "<div>\n",
       "<style scoped>\n",
       "    .dataframe tbody tr th:only-of-type {\n",
       "        vertical-align: middle;\n",
       "    }\n",
       "\n",
       "    .dataframe tbody tr th {\n",
       "        vertical-align: top;\n",
       "    }\n",
       "\n",
       "    .dataframe thead th {\n",
       "        text-align: right;\n",
       "    }\n",
       "</style>\n",
       "<table border=\"1\" class=\"dataframe\">\n",
       "  <thead>\n",
       "    <tr style=\"text-align: right;\">\n",
       "      <th></th>\n",
       "      <th>#Passengers</th>\n",
       "    </tr>\n",
       "  </thead>\n",
       "  <tbody>\n",
       "    <tr>\n",
       "      <th>0</th>\n",
       "      <td>112</td>\n",
       "    </tr>\n",
       "    <tr>\n",
       "      <th>1</th>\n",
       "      <td>118</td>\n",
       "    </tr>\n",
       "    <tr>\n",
       "      <th>2</th>\n",
       "      <td>132</td>\n",
       "    </tr>\n",
       "    <tr>\n",
       "      <th>3</th>\n",
       "      <td>129</td>\n",
       "    </tr>\n",
       "    <tr>\n",
       "      <th>4</th>\n",
       "      <td>121</td>\n",
       "    </tr>\n",
       "  </tbody>\n",
       "</table>\n",
       "</div>"
      ],
      "text/plain": [
       "   #Passengers\n",
       "0          112\n",
       "1          118\n",
       "2          132\n",
       "3          129\n",
       "4          121"
      ]
     },
     "execution_count": 932,
     "metadata": {},
     "output_type": "execute_result"
    }
   ],
   "source": [
    "data = data.drop('Month',axis=1)\n",
    "data.head()"
   ]
  },
  {
   "cell_type": "markdown",
   "metadata": {},
   "source": [
    "##### we need to convert this into numpy array"
   ]
  },
  {
   "cell_type": "code",
   "execution_count": 933,
   "metadata": {},
   "outputs": [],
   "source": [
    "data = np.array(data)"
   ]
  },
  {
   "cell_type": "code",
   "execution_count": 934,
   "metadata": {},
   "outputs": [
    {
     "data": {
      "text/plain": [
       "array([[112],\n",
       "       [118],\n",
       "       [132],\n",
       "       [129],\n",
       "       [121],\n",
       "       [135],\n",
       "       [148],\n",
       "       [148],\n",
       "       [136],\n",
       "       [119],\n",
       "       [104],\n",
       "       [118],\n",
       "       [115],\n",
       "       [126],\n",
       "       [141],\n",
       "       [135],\n",
       "       [125],\n",
       "       [149],\n",
       "       [170],\n",
       "       [170],\n",
       "       [158],\n",
       "       [133],\n",
       "       [114],\n",
       "       [140],\n",
       "       [145],\n",
       "       [150],\n",
       "       [178],\n",
       "       [163],\n",
       "       [172],\n",
       "       [178],\n",
       "       [199],\n",
       "       [199],\n",
       "       [184],\n",
       "       [162],\n",
       "       [146],\n",
       "       [166],\n",
       "       [171],\n",
       "       [180],\n",
       "       [193],\n",
       "       [181],\n",
       "       [183],\n",
       "       [218],\n",
       "       [230],\n",
       "       [242],\n",
       "       [209],\n",
       "       [191],\n",
       "       [172],\n",
       "       [194],\n",
       "       [196],\n",
       "       [196],\n",
       "       [236],\n",
       "       [235],\n",
       "       [229],\n",
       "       [243],\n",
       "       [264],\n",
       "       [272],\n",
       "       [237],\n",
       "       [211],\n",
       "       [180],\n",
       "       [201],\n",
       "       [204],\n",
       "       [188],\n",
       "       [235],\n",
       "       [227],\n",
       "       [234],\n",
       "       [264],\n",
       "       [302],\n",
       "       [293],\n",
       "       [259],\n",
       "       [229],\n",
       "       [203],\n",
       "       [229],\n",
       "       [242],\n",
       "       [233],\n",
       "       [267],\n",
       "       [269],\n",
       "       [270],\n",
       "       [315],\n",
       "       [364],\n",
       "       [347],\n",
       "       [312],\n",
       "       [274],\n",
       "       [237],\n",
       "       [278],\n",
       "       [284],\n",
       "       [277],\n",
       "       [317],\n",
       "       [313],\n",
       "       [318],\n",
       "       [374],\n",
       "       [413],\n",
       "       [405],\n",
       "       [355],\n",
       "       [306],\n",
       "       [271],\n",
       "       [306],\n",
       "       [315],\n",
       "       [301],\n",
       "       [356],\n",
       "       [348],\n",
       "       [355],\n",
       "       [422],\n",
       "       [465],\n",
       "       [467],\n",
       "       [404],\n",
       "       [347],\n",
       "       [305],\n",
       "       [336],\n",
       "       [340],\n",
       "       [318],\n",
       "       [362],\n",
       "       [348],\n",
       "       [363],\n",
       "       [435],\n",
       "       [491],\n",
       "       [505],\n",
       "       [404],\n",
       "       [359],\n",
       "       [310],\n",
       "       [337],\n",
       "       [360],\n",
       "       [342],\n",
       "       [406],\n",
       "       [396],\n",
       "       [420],\n",
       "       [472],\n",
       "       [548],\n",
       "       [559],\n",
       "       [463],\n",
       "       [407],\n",
       "       [362],\n",
       "       [405],\n",
       "       [417],\n",
       "       [391],\n",
       "       [419],\n",
       "       [461],\n",
       "       [472],\n",
       "       [535],\n",
       "       [622],\n",
       "       [606],\n",
       "       [508],\n",
       "       [461],\n",
       "       [390],\n",
       "       [432]], dtype=int64)"
      ]
     },
     "execution_count": 934,
     "metadata": {},
     "output_type": "execute_result"
    }
   ],
   "source": [
    "data"
   ]
  },
  {
   "cell_type": "code",
   "execution_count": 935,
   "metadata": {},
   "outputs": [
    {
     "data": {
      "text/plain": [
       "(144, 1)"
      ]
     },
     "execution_count": 935,
     "metadata": {},
     "output_type": "execute_result"
    }
   ],
   "source": [
    "data.shape"
   ]
  },
  {
   "cell_type": "code",
   "execution_count": 936,
   "metadata": {},
   "outputs": [
    {
     "data": {
      "text/plain": [
       "[<matplotlib.lines.Line2D at 0x1d223d44388>]"
      ]
     },
     "execution_count": 936,
     "metadata": {},
     "output_type": "execute_result"
    },
    {
     "data": {
      "image/png": "[encoded data removed]",
      "text/plain": [
       "<Figure size 432x288 with 1 Axes>"
      ]
     },
     "metadata": {
      "needs_background": "light"
     },
     "output_type": "display_data"
    }
   ],
   "source": [
    "plt.plot(data)  #we can see that our data has ups and downs between months"
   ]
  },
  {
   "cell_type": "markdown",
   "metadata": {},
   "source": [
    "#### Standardizing the data"
   ]
  },
  {
   "cell_type": "code",
   "execution_count": 937,
   "metadata": {},
   "outputs": [
    {
     "data": {
      "text/plain": [
       "(0.0, 1.0)"
      ]
     },
     "execution_count": 937,
     "metadata": {},
     "output_type": "execute_result"
    }
   ],
   "source": [
    "scalar = MinMaxScaler()\n",
    "data = scalar.fit_transform(data)\n",
    "data.min(),data.max()"
   ]
  },
  {
   "cell_type": "markdown",
   "metadata": {},
   "source": [
    "##### splitting the data into train and test data"
   ]
  },
  {
   "cell_type": "markdown",
   "metadata": {},
   "source": [
    "###### we will take 100 data points for training and 44 data points for testing"
   ]
  },
  {
   "cell_type": "code",
   "execution_count": 938,
   "metadata": {},
   "outputs": [],
   "source": [
    "train_size = 100\n",
    "test_size = 44"
   ]
  },
  {
   "cell_type": "code",
   "execution_count": 939,
   "metadata": {},
   "outputs": [
    {
     "data": {
      "text/plain": [
       "((100, 1), (44, 1))"
      ]
     },
     "execution_count": 939,
     "metadata": {},
     "output_type": "execute_result"
    }
   ],
   "source": [
    "train = data[0:100,:]\n",
    "test = data[100:144,:]\n",
    "train.shape,test.shape"
   ]
  },
  {
   "cell_type": "markdown",
   "metadata": {},
   "source": [
    "###### now, we will build our testing and training data using looping as we want 1st day data into x_train and next day data into y_train,i.e if we take 112 in x_train then y_train should be 118"
   ]
  },
  {
   "cell_type": "markdown",
   "metadata": {},
   "source": [
    "### Building testing and training data"
   ]
  },
  {
   "cell_type": "code",
   "execution_count": 940,
   "metadata": {},
   "outputs": [],
   "source": [
    "def get_data(data,loop_back):\n",
    "    data_x,data_y=[],[]\n",
    "    for i in range(len(data)-loop_back):\n",
    "        a = data[i:(i+loop_back),0]\n",
    "        data_x.append(a)\n",
    "        data_y.append(data[i+loop_back,0])\n",
    "    return np.array(data_x),np.array(data_y)"
   ]
  },
  {
   "cell_type": "code",
   "execution_count": 941,
   "metadata": {},
   "outputs": [
    {
     "data": {
      "text/plain": [
       "((99, 1), (99,))"
      ]
     },
     "execution_count": 941,
     "metadata": {},
     "output_type": "execute_result"
    }
   ],
   "source": [
    "loop_back = 1\n",
    "x_train,y_train = get_data(train,loop_back)\n",
    "x_train.shape,y_train.shape"
   ]
  },
  {
   "cell_type": "code",
   "execution_count": 942,
   "metadata": {},
   "outputs": [
    {
     "data": {
      "text/plain": [
       "array([[0.01544402],\n",
       "       [0.02702703],\n",
       "       [0.05405405],\n",
       "       [0.04826255],\n",
       "       [0.03281853],\n",
       "       [0.05984556],\n",
       "       [0.08494208],\n",
       "       [0.08494208],\n",
       "       [0.06177606],\n",
       "       [0.02895753],\n",
       "       [0.        ],\n",
       "       [0.02702703],\n",
       "       [0.02123552],\n",
       "       [0.04247104],\n",
       "       [0.07142857],\n",
       "       [0.05984556],\n",
       "       [0.04054054],\n",
       "       [0.08687259],\n",
       "       [0.12741313],\n",
       "       [0.12741313],\n",
       "       [0.1042471 ],\n",
       "       [0.05598456],\n",
       "       [0.01930502],\n",
       "       [0.06949807],\n",
       "       [0.07915058],\n",
       "       [0.08880309],\n",
       "       [0.14285714],\n",
       "       [0.11389961],\n",
       "       [0.13127413],\n",
       "       [0.14285714],\n",
       "       [0.18339768],\n",
       "       [0.18339768],\n",
       "       [0.15444015],\n",
       "       [0.11196911],\n",
       "       [0.08108108],\n",
       "       [0.11969112],\n",
       "       [0.12934363],\n",
       "       [0.14671815],\n",
       "       [0.17181467],\n",
       "       [0.14864865],\n",
       "       [0.15250965],\n",
       "       [0.22007722],\n",
       "       [0.24324324],\n",
       "       [0.26640927],\n",
       "       [0.2027027 ],\n",
       "       [0.16795367],\n",
       "       [0.13127413],\n",
       "       [0.17374517],\n",
       "       [0.17760618],\n",
       "       [0.17760618],\n",
       "       [0.25482625],\n",
       "       [0.25289575],\n",
       "       [0.24131274],\n",
       "       [0.26833977],\n",
       "       [0.30888031],\n",
       "       [0.32432432],\n",
       "       [0.25675676],\n",
       "       [0.20656371],\n",
       "       [0.14671815],\n",
       "       [0.18725869],\n",
       "       [0.19305019],\n",
       "       [0.16216216],\n",
       "       [0.25289575],\n",
       "       [0.23745174],\n",
       "       [0.25096525],\n",
       "       [0.30888031],\n",
       "       [0.38223938],\n",
       "       [0.36486486],\n",
       "       [0.2992278 ],\n",
       "       [0.24131274],\n",
       "       [0.19111969],\n",
       "       [0.24131274],\n",
       "       [0.26640927],\n",
       "       [0.24903475],\n",
       "       [0.31467181],\n",
       "       [0.31853282],\n",
       "       [0.32046332],\n",
       "       [0.40733591],\n",
       "       [0.5019305 ],\n",
       "       [0.46911197],\n",
       "       [0.4015444 ],\n",
       "       [0.32818533],\n",
       "       [0.25675676],\n",
       "       [0.33590734],\n",
       "       [0.34749035],\n",
       "       [0.33397683],\n",
       "       [0.41119691],\n",
       "       [0.4034749 ],\n",
       "       [0.41312741],\n",
       "       [0.52123552],\n",
       "       [0.5965251 ],\n",
       "       [0.58108108],\n",
       "       [0.48455598],\n",
       "       [0.38996139],\n",
       "       [0.32239382],\n",
       "       [0.38996139],\n",
       "       [0.40733591],\n",
       "       [0.38030888],\n",
       "       [0.48648649]])"
      ]
     },
     "execution_count": 942,
     "metadata": {},
     "output_type": "execute_result"
    }
   ],
   "source": [
    "x_train"
   ]
  },
  {
   "cell_type": "code",
   "execution_count": 943,
   "metadata": {},
   "outputs": [
    {
     "data": {
      "text/plain": [
       "array([0.02702703, 0.05405405, 0.04826255, 0.03281853, 0.05984556,\n",
       "       0.08494208, 0.08494208, 0.06177606, 0.02895753, 0.        ,\n",
       "       0.02702703, 0.02123552, 0.04247104, 0.07142857, 0.05984556,\n",
       "       0.04054054, 0.08687259, 0.12741313, 0.12741313, 0.1042471 ,\n",
       "       0.05598456, 0.01930502, 0.06949807, 0.07915058, 0.08880309,\n",
       "       0.14285714, 0.11389961, 0.13127413, 0.14285714, 0.18339768,\n",
       "       0.18339768, 0.15444015, 0.11196911, 0.08108108, 0.11969112,\n",
       "       0.12934363, 0.14671815, 0.17181467, 0.14864865, 0.15250965,\n",
       "       0.22007722, 0.24324324, 0.26640927, 0.2027027 , 0.16795367,\n",
       "       0.13127413, 0.17374517, 0.17760618, 0.17760618, 0.25482625,\n",
       "       0.25289575, 0.24131274, 0.26833977, 0.30888031, 0.32432432,\n",
       "       0.25675676, 0.20656371, 0.14671815, 0.18725869, 0.19305019,\n",
       "       0.16216216, 0.25289575, 0.23745174, 0.25096525, 0.30888031,\n",
       "       0.38223938, 0.36486486, 0.2992278 , 0.24131274, 0.19111969,\n",
       "       0.24131274, 0.26640927, 0.24903475, 0.31467181, 0.31853282,\n",
       "       0.32046332, 0.40733591, 0.5019305 , 0.46911197, 0.4015444 ,\n",
       "       0.32818533, 0.25675676, 0.33590734, 0.34749035, 0.33397683,\n",
       "       0.41119691, 0.4034749 , 0.41312741, 0.52123552, 0.5965251 ,\n",
       "       0.58108108, 0.48455598, 0.38996139, 0.32239382, 0.38996139,\n",
       "       0.40733591, 0.38030888, 0.48648649, 0.47104247])"
      ]
     },
     "execution_count": 943,
     "metadata": {},
     "output_type": "execute_result"
    }
   ],
   "source": [
    "y_train"
   ]
  },
  {
   "cell_type": "markdown",
   "metadata": {},
   "source": [
    "##### we can see that 1st value in y_train is 2nd value in x_test, similar operation can be done on test data"
   ]
  },
  {
   "cell_type": "code",
   "execution_count": 944,
   "metadata": {},
   "outputs": [
    {
     "data": {
      "text/plain": [
       "((43, 1), (43,))"
      ]
     },
     "execution_count": 944,
     "metadata": {},
     "output_type": "execute_result"
    }
   ],
   "source": [
    "x_test,y_test = get_data(test,loop_back)\n",
    "x_test.shape,y_test.shape"
   ]
  },
  {
   "cell_type": "markdown",
   "metadata": {},
   "source": [
    "###### Reshape x_train and x_test into 3D array as neural network takes 3D data"
   ]
  },
  {
   "cell_type": "code",
   "execution_count": 945,
   "metadata": {},
   "outputs": [],
   "source": [
    "x_train = x_train.reshape(x_train.shape[0],x_train.shape[1],1)\n",
    "x_test = x_test.reshape(x_test.shape[0],x_test.shape[1],1)"
   ]
  },
  {
   "cell_type": "code",
   "execution_count": 946,
   "metadata": {},
   "outputs": [
    {
     "data": {
      "text/plain": [
       "((43, 1, 1), (99, 1, 1))"
      ]
     },
     "execution_count": 946,
     "metadata": {},
     "output_type": "execute_result"
    }
   ],
   "source": [
    "x_test.shape,x_train.shape"
   ]
  },
  {
   "cell_type": "markdown",
   "metadata": {},
   "source": [
    "## Build the model"
   ]
  },
  {
   "cell_type": "code",
   "execution_count": 947,
   "metadata": {},
   "outputs": [],
   "source": [
    "model = Sequential()\n",
    "model.add(LSTM(5,activation='relu',input_shape=(x_train.shape[1],x_train.shape[2]),return_sequences=True))\n",
    "\n",
    "\n",
    "model.add(LSTM(6,activation='relu',return_sequences=True))\n",
    "\n",
    "\n",
    "model.add(LSTM(7,activation='relu',return_sequences=True))\n",
    "model.add(LSTM(8,activation='relu'))\n",
    "\n",
    "\n",
    "\n",
    "model.add(Dense(1))\n",
    "\n",
    "          \n"
   ]
  },
  {
   "cell_type": "code",
   "execution_count": null,
   "metadata": {},
   "outputs": [],
   "source": []
  },
  {
   "cell_type": "code",
   "execution_count": 948,
   "metadata": {},
   "outputs": [
    {
     "name": "stdout",
     "output_type": "stream",
     "text": [
      "Train on 99 samples\n",
      "Epoch 1/150\n",
      "99/99 [==============================] - 9s 90ms/sample - loss: 0.0597\n",
      "Epoch 2/150\n",
      "99/99 [==============================] - 0s 2ms/sample - loss: 0.0430\n",
      "Epoch 3/150\n",
      "99/99 [==============================] - 0s 2ms/sample - loss: 0.0320\n",
      "Epoch 4/150\n",
      "99/99 [==============================] - 0s 2ms/sample - loss: 0.0253\n",
      "Epoch 5/150\n",
      "99/99 [==============================] - 0s 2ms/sample - loss: 0.0218\n",
      "Epoch 6/150\n",
      "99/99 [==============================] - 0s 2ms/sample - loss: 0.0203\n",
      "Epoch 7/150\n",
      "99/99 [==============================] - 0s 2ms/sample - loss: 0.0199\n",
      "Epoch 8/150\n",
      "99/99 [==============================] - 0s 2ms/sample - loss: 0.0198\n",
      "Epoch 9/150\n",
      "99/99 [==============================] - 0s 2ms/sample - loss: 0.0197\n",
      "Epoch 10/150\n",
      "99/99 [==============================] - 0s 2ms/sample - loss: 0.0195\n",
      "Epoch 11/150\n",
      "99/99 [==============================] - 0s 2ms/sample - loss: 0.0195\n",
      "Epoch 12/150\n",
      "99/99 [==============================] - 0s 2ms/sample - loss: 0.0191\n",
      "Epoch 13/150\n",
      "99/99 [==============================] - 0s 2ms/sample - loss: 0.0188\n",
      "Epoch 14/150\n",
      "99/99 [==============================] - 0s 2ms/sample - loss: 0.0183\n",
      "Epoch 15/150\n",
      "99/99 [==============================] - 0s 2ms/sample - loss: 0.0177\n",
      "Epoch 16/150\n",
      "99/99 [==============================] - 0s 3ms/sample - loss: 0.0169\n",
      "Epoch 17/150\n",
      "99/99 [==============================] - 0s 3ms/sample - loss: 0.0159\n",
      "Epoch 18/150\n",
      "99/99 [==============================] - 0s 2ms/sample - loss: 0.0144\n",
      "Epoch 19/150\n",
      "99/99 [==============================] - 0s 2ms/sample - loss: 0.0131\n",
      "Epoch 20/150\n",
      "99/99 [==============================] - 0s 3ms/sample - loss: 0.0115\n",
      "Epoch 21/150\n",
      "99/99 [==============================] - 0s 2ms/sample - loss: 0.0098\n",
      "Epoch 22/150\n",
      "99/99 [==============================] - 0s 2ms/sample - loss: 0.0083\n",
      "Epoch 23/150\n",
      "99/99 [==============================] - 0s 2ms/sample - loss: 0.0070\n",
      "Epoch 24/150\n",
      "99/99 [==============================] - ETA: 0s - loss: 0.006 - 0s 2ms/sample - loss: 0.0060\n",
      "Epoch 25/150\n",
      "99/99 [==============================] - 0s 2ms/sample - loss: 0.0054\n",
      "Epoch 26/150\n",
      "99/99 [==============================] - 0s 2ms/sample - loss: 0.0049\n",
      "Epoch 27/150\n",
      "99/99 [==============================] - 0s 2ms/sample - loss: 0.0044\n",
      "Epoch 28/150\n",
      "99/99 [==============================] - 0s 2ms/sample - loss: 0.0043\n",
      "Epoch 29/150\n",
      "99/99 [==============================] - 0s 2ms/sample - loss: 0.0041\n",
      "Epoch 30/150\n",
      "99/99 [==============================] - 0s 2ms/sample - loss: 0.0041\n",
      "Epoch 31/150\n",
      "99/99 [==============================] - 0s 2ms/sample - loss: 0.0040\n",
      "Epoch 32/150\n",
      "99/99 [==============================] - 0s 2ms/sample - loss: 0.0038\n",
      "Epoch 33/150\n",
      "99/99 [==============================] - 0s 2ms/sample - loss: 0.0038\n",
      "Epoch 34/150\n",
      "99/99 [==============================] - 0s 2ms/sample - loss: 0.0037\n",
      "Epoch 35/150\n",
      "99/99 [==============================] - 0s 2ms/sample - loss: 0.0040\n",
      "Epoch 36/150\n",
      "99/99 [==============================] - 0s 2ms/sample - loss: 0.0037\n",
      "Epoch 37/150\n",
      "99/99 [==============================] - 0s 2ms/sample - loss: 0.0037\n",
      "Epoch 38/150\n",
      "99/99 [==============================] - 0s 2ms/sample - loss: 0.0037\n",
      "Epoch 39/150\n",
      "99/99 [==============================] - 0s 2ms/sample - loss: 0.0037\n",
      "Epoch 40/150\n",
      "99/99 [==============================] - 0s 2ms/sample - loss: 0.0036\n",
      "Epoch 41/150\n",
      "99/99 [==============================] - 0s 2ms/sample - loss: 0.0036\n",
      "Epoch 42/150\n",
      "99/99 [==============================] - 0s 2ms/sample - loss: 0.0036\n",
      "Epoch 43/150\n",
      "99/99 [==============================] - 0s 2ms/sample - loss: 0.0034\n",
      "Epoch 44/150\n",
      "99/99 [==============================] - 0s 2ms/sample - loss: 0.0036\n",
      "Epoch 45/150\n",
      "99/99 [==============================] - 0s 2ms/sample - loss: 0.0034\n",
      "Epoch 46/150\n",
      "99/99 [==============================] - 0s 2ms/sample - loss: 0.0034\n",
      "Epoch 47/150\n",
      "99/99 [==============================] - 0s 2ms/sample - loss: 0.0034\n",
      "Epoch 48/150\n",
      "99/99 [==============================] - 0s 3ms/sample - loss: 0.0036\n",
      "Epoch 49/150\n",
      "99/99 [==============================] - 0s 2ms/sample - loss: 0.0034\n",
      "Epoch 50/150\n",
      "99/99 [==============================] - 0s 2ms/sample - loss: 0.0033\n",
      "Epoch 51/150\n",
      "99/99 [==============================] - 0s 2ms/sample - loss: 0.0033\n",
      "Epoch 52/150\n",
      "99/99 [==============================] - 0s 2ms/sample - loss: 0.0032\n",
      "Epoch 53/150\n",
      "99/99 [==============================] - 0s 2ms/sample - loss: 0.0034\n",
      "Epoch 54/150\n",
      "99/99 [==============================] - 0s 2ms/sample - loss: 0.0033\n",
      "Epoch 55/150\n",
      "99/99 [==============================] - 0s 2ms/sample - loss: 0.0032\n",
      "Epoch 56/150\n",
      "99/99 [==============================] - 0s 2ms/sample - loss: 0.0032\n",
      "Epoch 57/150\n",
      "99/99 [==============================] - 0s 2ms/sample - loss: 0.0031\n",
      "Epoch 58/150\n",
      "99/99 [==============================] - 0s 2ms/sample - loss: 0.0031\n",
      "Epoch 59/150\n",
      "99/99 [==============================] - 0s 3ms/sample - loss: 0.0031\n",
      "Epoch 60/150\n",
      "99/99 [==============================] - 0s 2ms/sample - loss: 0.0031\n",
      "Epoch 61/150\n",
      "99/99 [==============================] - 0s 2ms/sample - loss: 0.0031\n",
      "Epoch 62/150\n",
      "99/99 [==============================] - 0s 2ms/sample - loss: 0.0031\n",
      "Epoch 63/150\n",
      "99/99 [==============================] - 0s 2ms/sample - loss: 0.0030\n",
      "Epoch 64/150\n",
      "99/99 [==============================] - 0s 2ms/sample - loss: 0.0030\n",
      "Epoch 65/150\n",
      "99/99 [==============================] - 0s 2ms/sample - loss: 0.0029\n",
      "Epoch 66/150\n",
      "99/99 [==============================] - 0s 2ms/sample - loss: 0.0029\n",
      "Epoch 67/150\n",
      "99/99 [==============================] - 0s 2ms/sample - loss: 0.0029\n",
      "Epoch 68/150\n",
      "99/99 [==============================] - 0s 2ms/sample - loss: 0.0028\n",
      "Epoch 69/150\n",
      "99/99 [==============================] - 0s 3ms/sample - loss: 0.0028\n",
      "Epoch 70/150\n",
      "99/99 [==============================] - 0s 2ms/sample - loss: 0.0029\n",
      "Epoch 71/150\n",
      "99/99 [==============================] - 0s 2ms/sample - loss: 0.0029\n",
      "Epoch 72/150\n",
      "99/99 [==============================] - 0s 2ms/sample - loss: 0.0028\n",
      "Epoch 73/150\n",
      "99/99 [==============================] - 0s 2ms/sample - loss: 0.0027\n",
      "Epoch 74/150\n",
      "99/99 [==============================] - 0s 2ms/sample - loss: 0.0029\n",
      "Epoch 75/150\n",
      "99/99 [==============================] - 0s 2ms/sample - loss: 0.0026\n",
      "Epoch 76/150\n",
      "99/99 [==============================] - 0s 2ms/sample - loss: 0.0026\n",
      "Epoch 77/150\n",
      "99/99 [==============================] - 0s 2ms/sample - loss: 0.0026\n",
      "Epoch 78/150\n",
      "99/99 [==============================] - 0s 2ms/sample - loss: 0.0026\n",
      "Epoch 79/150\n",
      "99/99 [==============================] - 0s 2ms/sample - loss: 0.0026\n",
      "Epoch 80/150\n",
      "99/99 [==============================] - 0s 2ms/sample - loss: 0.0026\n",
      "Epoch 81/150\n",
      "99/99 [==============================] - 0s 2ms/sample - loss: 0.0027\n",
      "Epoch 82/150\n",
      "99/99 [==============================] - 0s 2ms/sample - loss: 0.0025\n",
      "Epoch 83/150\n",
      "99/99 [==============================] - 0s 2ms/sample - loss: 0.0028\n",
      "Epoch 84/150\n",
      "99/99 [==============================] - 0s 2ms/sample - loss: 0.0026\n",
      "Epoch 85/150\n",
      "99/99 [==============================] - 0s 2ms/sample - loss: 0.0026\n",
      "Epoch 86/150\n",
      "99/99 [==============================] - 0s 2ms/sample - loss: 0.0026\n",
      "Epoch 87/150\n",
      "99/99 [==============================] - 0s 2ms/sample - loss: 0.0024\n",
      "Epoch 88/150\n",
      "99/99 [==============================] - 0s 2ms/sample - loss: 0.0026\n",
      "Epoch 89/150\n",
      "99/99 [==============================] - 0s 2ms/sample - loss: 0.0025\n",
      "Epoch 90/150\n",
      "99/99 [==============================] - 0s 2ms/sample - loss: 0.0025\n",
      "Epoch 91/150\n",
      "99/99 [==============================] - 0s 2ms/sample - loss: 0.0025\n",
      "Epoch 92/150\n",
      "99/99 [==============================] - 0s 2ms/sample - loss: 0.0027\n",
      "Epoch 93/150\n",
      "99/99 [==============================] - 0s 2ms/sample - loss: 0.0025\n",
      "Epoch 94/150\n",
      "99/99 [==============================] - 0s 2ms/sample - loss: 0.0024\n",
      "Epoch 95/150\n",
      "99/99 [==============================] - 0s 3ms/sample - loss: 0.0024\n",
      "Epoch 96/150\n",
      "99/99 [==============================] - 0s 2ms/sample - loss: 0.0024\n",
      "Epoch 97/150\n",
      "99/99 [==============================] - 0s 2ms/sample - loss: 0.0023\n",
      "Epoch 98/150\n",
      "99/99 [==============================] - 0s 2ms/sample - loss: 0.0024\n",
      "Epoch 99/150\n",
      "99/99 [==============================] - 0s 2ms/sample - loss: 0.0025\n",
      "Epoch 100/150\n",
      "99/99 [==============================] - 0s 2ms/sample - loss: 0.0024\n",
      "Epoch 101/150\n",
      "99/99 [==============================] - 0s 2ms/sample - loss: 0.0024\n",
      "Epoch 102/150\n",
      "99/99 [==============================] - 0s 2ms/sample - loss: 0.0023\n",
      "Epoch 103/150\n",
      "99/99 [==============================] - 0s 2ms/sample - loss: 0.0023\n",
      "Epoch 104/150\n",
      "99/99 [==============================] - 0s 2ms/sample - loss: 0.0023\n",
      "Epoch 105/150\n",
      "99/99 [==============================] - 0s 2ms/sample - loss: 0.0024\n",
      "Epoch 106/150\n",
      "99/99 [==============================] - 0s 2ms/sample - loss: 0.0024\n",
      "Epoch 107/150\n",
      "99/99 [==============================] - 0s 2ms/sample - loss: 0.0024\n",
      "Epoch 108/150\n",
      "99/99 [==============================] - 0s 2ms/sample - loss: 0.0026\n",
      "Epoch 109/150\n",
      "99/99 [==============================] - 0s 2ms/sample - loss: 0.0025\n",
      "Epoch 110/150\n",
      "99/99 [==============================] - 0s 2ms/sample - loss: 0.0025\n",
      "Epoch 111/150\n",
      "99/99 [==============================] - 0s 2ms/sample - loss: 0.0023\n",
      "Epoch 112/150\n",
      "99/99 [==============================] - 0s 2ms/sample - loss: 0.0022\n",
      "Epoch 113/150\n",
      "99/99 [==============================] - 0s 2ms/sample - loss: 0.0022\n",
      "Epoch 114/150\n",
      "99/99 [==============================] - 0s 2ms/sample - loss: 0.0022\n",
      "Epoch 115/150\n",
      "99/99 [==============================] - 0s 2ms/sample - loss: 0.0022\n",
      "Epoch 116/150\n",
      "99/99 [==============================] - 0s 2ms/sample - loss: 0.0023\n",
      "Epoch 117/150\n",
      "99/99 [==============================] - 0s 2ms/sample - loss: 0.0023\n",
      "Epoch 118/150\n",
      "99/99 [==============================] - 0s 2ms/sample - loss: 0.0023\n",
      "Epoch 119/150\n",
      "99/99 [==============================] - 0s 2ms/sample - loss: 0.0023\n",
      "Epoch 120/150\n",
      "99/99 [==============================] - 0s 2ms/sample - loss: 0.0022\n",
      "Epoch 121/150\n",
      "99/99 [==============================] - 0s 2ms/sample - loss: 0.0023\n",
      "Epoch 122/150\n",
      "99/99 [==============================] - 0s 3ms/sample - loss: 0.0024\n",
      "Epoch 123/150\n",
      "99/99 [==============================] - 0s 2ms/sample - loss: 0.0022\n",
      "Epoch 124/150\n",
      "99/99 [==============================] - 0s 2ms/sample - loss: 0.0021\n",
      "Epoch 125/150\n",
      "99/99 [==============================] - 0s 2ms/sample - loss: 0.0022\n",
      "Epoch 126/150\n",
      "99/99 [==============================] - 0s 2ms/sample - loss: 0.0022\n",
      "Epoch 127/150\n",
      "99/99 [==============================] - 0s 2ms/sample - loss: 0.0022\n",
      "Epoch 128/150\n",
      "99/99 [==============================] - 0s 2ms/sample - loss: 0.0023\n",
      "Epoch 129/150\n",
      "99/99 [==============================] - 0s 2ms/sample - loss: 0.0022\n",
      "Epoch 130/150\n",
      "99/99 [==============================] - 0s 2ms/sample - loss: 0.0023\n",
      "Epoch 131/150\n",
      "99/99 [==============================] - 0s 2ms/sample - loss: 0.0025\n",
      "Epoch 132/150\n",
      "99/99 [==============================] - 0s 2ms/sample - loss: 0.0022\n",
      "Epoch 133/150\n",
      "99/99 [==============================] - 0s 2ms/sample - loss: 0.0022\n",
      "Epoch 134/150\n",
      "99/99 [==============================] - 0s 2ms/sample - loss: 0.0022\n",
      "Epoch 135/150\n",
      "99/99 [==============================] - 0s 2ms/sample - loss: 0.0022\n",
      "Epoch 136/150\n",
      "99/99 [==============================] - 0s 2ms/sample - loss: 0.0021\n",
      "Epoch 137/150\n",
      "99/99 [==============================] - 0s 2ms/sample - loss: 0.0021\n",
      "Epoch 138/150\n",
      "99/99 [==============================] - 0s 2ms/sample - loss: 0.0022\n",
      "Epoch 139/150\n",
      "99/99 [==============================] - 0s 2ms/sample - loss: 0.0021\n",
      "Epoch 140/150\n",
      "99/99 [==============================] - 0s 2ms/sample - loss: 0.0021\n",
      "Epoch 141/150\n",
      "99/99 [==============================] - 0s 2ms/sample - loss: 0.0022\n",
      "Epoch 142/150\n",
      "99/99 [==============================] - 0s 2ms/sample - loss: 0.0022\n",
      "Epoch 143/150\n",
      "99/99 [==============================] - 0s 2ms/sample - loss: 0.0021\n",
      "Epoch 144/150\n",
      "99/99 [==============================] - 0s 2ms/sample - loss: 0.0021\n",
      "Epoch 145/150\n",
      "99/99 [==============================] - 0s 2ms/sample - loss: 0.0022\n",
      "Epoch 146/150\n",
      "99/99 [==============================] - 0s 2ms/sample - loss: 0.0023\n",
      "Epoch 147/150\n",
      "99/99 [==============================] - 0s 2ms/sample - loss: 0.0023\n",
      "Epoch 148/150\n",
      "99/99 [==============================] - 0s 2ms/sample - loss: 0.0023\n",
      "Epoch 149/150\n",
      "99/99 [==============================] - 0s 2ms/sample - loss: 0.0022\n",
      "Epoch 150/150\n",
      "99/99 [==============================] - 0s 2ms/sample - loss: 0.0022\n"
     ]
    },
    {
     "data": {
      "text/plain": [
       "<tensorflow.python.keras.callbacks.History at 0x1d22465ad48>"
      ]
     },
     "execution_count": 948,
     "metadata": {},
     "output_type": "execute_result"
    }
   ],
   "source": [
    "model.compile(optimizer='adam',loss='mean_squared_error')\n",
    "model.fit(x_train,y_train,epochs=150,batch_size=2)"
   ]
  },
  {
   "cell_type": "code",
   "execution_count": 949,
   "metadata": {},
   "outputs": [],
   "source": [
    "y_pred = model.predict(x_test)"
   ]
  },
  {
   "cell_type": "code",
   "execution_count": 950,
   "metadata": {},
   "outputs": [
    {
     "data": {
      "text/plain": [
       "array([[345.06647],\n",
       "       [412.47327],\n",
       "       [460.78714],\n",
       "       [463.12582],\n",
       "       [393.40213],\n",
       "       [337.6794 ],\n",
       "       [301.2417 ],\n",
       "       [327.75504],\n",
       "       [331.33276],\n",
       "       [312.09848],\n",
       "       [351.64688],\n",
       "       [338.595  ],\n",
       "       [352.59595],\n",
       "       [426.67612],\n",
       "       [491.79398],\n",
       "       [509.01508],\n",
       "       [393.40213],\n",
       "       [348.8134 ],\n",
       "       [305.37256],\n",
       "       [328.64606],\n",
       "       [349.75577],\n",
       "       [333.13492],\n",
       "       [395.48663],\n",
       "       [385.15054],\n",
       "       [410.3201 ],\n",
       "       [469.00668],\n",
       "       [564.01465],\n",
       "       [578.5521 ],\n",
       "       [458.45654],\n",
       "       [396.53226],\n",
       "       [351.64688],\n",
       "       [394.44333],\n",
       "       [407.1061 ],\n",
       "       [380.06427],\n",
       "       [409.24652],\n",
       "       [456.13373],\n",
       "       [469.00668],\n",
       "       [547.06964],\n",
       "       [664.841  ],\n",
       "       [642.491  ],\n",
       "       [512.7511 ],\n",
       "       [456.13373],\n",
       "       [379.05344]], dtype=float32)"
      ]
     },
     "execution_count": 950,
     "metadata": {},
     "output_type": "execute_result"
    }
   ],
   "source": [
    "y_pred=scalar.inverse_transform(y_pred)\n",
    "y_pred"
   ]
  },
  {
   "cell_type": "code",
   "execution_count": 951,
   "metadata": {},
   "outputs": [
    {
     "data": {
      "text/plain": [
       "array([0.61389961, 0.6969112 , 0.7007722 , 0.57915058, 0.46911197,\n",
       "       0.38803089, 0.44787645, 0.45559846, 0.41312741, 0.4980695 ,\n",
       "       0.47104247, 0.5       , 0.63899614, 0.74710425, 0.77413127,\n",
       "       0.57915058, 0.49227799, 0.3976834 , 0.44980695, 0.49420849,\n",
       "       0.45945946, 0.58301158, 0.56370656, 0.61003861, 0.71042471,\n",
       "       0.85714286, 0.87837838, 0.69305019, 0.58494208, 0.4980695 ,\n",
       "       0.58108108, 0.6042471 , 0.55405405, 0.60810811, 0.68918919,\n",
       "       0.71042471, 0.83204633, 1.        , 0.96911197, 0.77992278,\n",
       "       0.68918919, 0.55212355, 0.63320463])"
      ]
     },
     "execution_count": 951,
     "metadata": {},
     "output_type": "execute_result"
    }
   ],
   "source": [
    "y_test"
   ]
  },
  {
   "cell_type": "code",
   "execution_count": 952,
   "metadata": {},
   "outputs": [],
   "source": [
    "y_test = np.array(y_test)"
   ]
  },
  {
   "cell_type": "code",
   "execution_count": 953,
   "metadata": {},
   "outputs": [],
   "source": [
    "y_test=y_test.reshape(-1,1)"
   ]
  },
  {
   "cell_type": "code",
   "execution_count": 954,
   "metadata": {},
   "outputs": [
    {
     "data": {
      "text/plain": [
       "array([[422.],\n",
       "       [465.],\n",
       "       [467.],\n",
       "       [404.],\n",
       "       [347.],\n",
       "       [305.],\n",
       "       [336.],\n",
       "       [340.],\n",
       "       [318.],\n",
       "       [362.],\n",
       "       [348.],\n",
       "       [363.],\n",
       "       [435.],\n",
       "       [491.],\n",
       "       [505.],\n",
       "       [404.],\n",
       "       [359.],\n",
       "       [310.],\n",
       "       [337.],\n",
       "       [360.],\n",
       "       [342.],\n",
       "       [406.],\n",
       "       [396.],\n",
       "       [420.],\n",
       "       [472.],\n",
       "       [548.],\n",
       "       [559.],\n",
       "       [463.],\n",
       "       [407.],\n",
       "       [362.],\n",
       "       [405.],\n",
       "       [417.],\n",
       "       [391.],\n",
       "       [419.],\n",
       "       [461.],\n",
       "       [472.],\n",
       "       [535.],\n",
       "       [622.],\n",
       "       [606.],\n",
       "       [508.],\n",
       "       [461.],\n",
       "       [390.],\n",
       "       [432.]])"
      ]
     },
     "execution_count": 954,
     "metadata": {},
     "output_type": "execute_result"
    }
   ],
   "source": [
    "y_test = scalar.inverse_transform(y_test)\n",
    "y_test"
   ]
  },
  {
   "cell_type": "code",
   "execution_count": 955,
   "metadata": {},
   "outputs": [
    {
     "data": {
      "image/png": "[encoded data removed]",
      "text/plain": [
       "<Figure size 1008x360 with 1 Axes>"
      ]
     },
     "metadata": {
      "needs_background": "light"
     },
     "output_type": "display_data"
    }
   ],
   "source": [
    "\n",
    "plt.figure(figsize=(14,5))\n",
    "plt.plot(y_test, color='red',label='actual number of passangers')\n",
    "plt.plot(y_pred,color='green',label='Predicted number of passangers')\n",
    "plt.title('US Airtline passangers prediction')\n",
    "plt.ylabel('stock price')\n",
    "plt.legend()\n",
    "plt.show()"
   ]
  },
  {
   "cell_type": "code",
   "execution_count": null,
   "metadata": {},
   "outputs": [],
   "source": []
  },
  {
   "cell_type": "code",
   "execution_count": null,
   "metadata": {},
   "outputs": [],
   "source": []
  },
  {
   "cell_type": "code",
   "execution_count": null,
   "metadata": {},
   "outputs": [],
   "source": []
  },
  {
   "cell_type": "code",
   "execution_count": null,
   "metadata": {},
   "outputs": [],
   "source": []
  }
 ],
 "metadata": {
  "kernelspec": {
   "display_name": "Python 3",
   "language": "python",
   "name": "python3"
  },
  "language_info": {
   "codemirror_mode": {
    "name": "ipython",
    "version": 3
   },
   "file_extension": ".py",
   "mimetype": "text/x-python",
   "name": "python",
   "nbconvert_exporter": "python",
   "pygments_lexer": "ipython3",
   "version": "3.6.10"
  }
 },
 "nbformat": 4,
 "nbformat_minor": 2
}
